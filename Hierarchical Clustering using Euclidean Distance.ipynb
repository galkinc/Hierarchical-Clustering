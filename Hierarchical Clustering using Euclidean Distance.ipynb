{
 "cells": [
  {
   "cell_type": "markdown",
   "metadata": {},
   "source": [
    "# Hierarchical Clustering using Euclidean Distance  \n",
    "# Task 1: Introduction  \n",
    "## - Extending Skew Analysis"
   ]
  },
  {
   "cell_type": "markdown",
   "metadata": {},
   "source": [
    "Six skews of different combinations of two nucleotides: CA-, GA-, UA-, UG-, UC-, and CG-skew are used to draw what is known as the **skew profile**. The skew profile is plotted using **cumulative** values of skews and is determined by nucleotide **composition**, not the sequence. Despite the benefits of this method for knowing the genome profile, one of its flaws is the lack of a quantitative comparison between more than one genome. This is being overcome by additional techniques such as [Euclidean distance](https://en.wikipedia.org/wiki/Euclidean_distance) matrices and [Neighbor-joining](https://en.wikipedia.org/wiki/Neighbor_joining) trees. Our traget in the current project is to explore these options.  \n",
    "\n",
    "\n",
    "The following twenty skew profile graphs represent different strains for seven viruses, Corona and SARS viruses from the [Coronaviridae](https://en.wikipedia.org/wiki/Coronaviridae) family, Dengue, Zika, and West Nile viruses from the [Flaviviridae](https://en.wikipedia.org/wiki/Flaviviridae) family, Enterovirus from [Picornaviridae](https://en.wikipedia.org/wiki/Picornavirus) family, and HIV from [Retroviridae](https://en.wikipedia.org/w/index.php?title=Retroviridae&redirect=yes). All these viruses belong to Realm [Riboviria](https://en.wikipedia.org/wiki/Riboviria).  \n",
    "\n",
    "<table><tr><td><img src='images/Corona_HCoV-NL63.png'></td><td><img src='images/Corona_MN988668_China.png'></td></tr></table>\n",
    "<table><tr><td><img src='images/Corona_MT755827_Bangladesh.png'></td><td><img src='images/Corona_MT759582.1_India.png'></td></tr></table>\n",
    "<table><tr><td><img src='images/Corona_MT766907.1_USA.png'></td><td><img src='images/Corona_NC_045512_China.png'></td></tr></table>\n",
    "<table><tr><td><img src='images/SARS_BJ01.png'></td><td><img src='images/SARS_BJ02.png'></td></tr></table>\n",
    "<table><tr><td><img src='images/SARS_BJ03.png'></td><td><img src='images/SARS_BJ04.png'></td></tr></table>\n",
    "<table><tr><td><img src='images/Dengue_MT862858.png'></td><td><img src='images/Dengue_MT862893.png'></td></tr></table>\n",
    "\n",
    "<table><tr><td><img src='images/EnterovirusA_NC038306.png'></td><td><img src='images/EnterovirusB_NC038307.png'></td></tr></table>\n",
    "<table><tr><td><img src='images/EnterovirusD_NC038308.png'></td><td><img src='images/EnterovirusH_NC038309.png'></td></tr></table>\n",
    "<table><tr><td><img src='images/HIV_NC001802.1.png'></td><td><img src='images/WestNile_NC009942.png'></td></tr></table>\n",
    "\n",
    "<table><tr><td><img src='images/Zika_AY632535.png'></td><td><img src='images/Zika_MN101548.png'></td></tr></table>\n"
   ]
  },
  {
   "cell_type": "markdown",
   "metadata": {},
   "source": [
    "If you've tried to compare the previous 20 graphs with each other, you know how difficult it can be to accomplish that with sight. We will accomplish that by starting with the profile skew data, like the one shown in the next table, and compute the Euclidean differences among them and build a [dendrogram](https://en.wikipedia.org/wiki/Dendrogram) based on the neighbor-joining tree algorithm, which shows the difference and similarity between the different viruses.   \n",
    "\n",
    "No. | virus | strain |CA-Skew | GA-Skew | UA-Skew | UG-Skew | UC-Skew | CG-Skew*  \n",
    "----| :-------- | :-- | -- | -- | -- | -- |----------| ---------\n",
    "1. | **Corona** | HCoV-NL63 |-8892.72|-13454.38|-5947.28|8392.05|3165.32 |5417.59  \n",
    "2. | **SARS** | BJ01 |-4673.66|-5852.78|-1008.29|4887.03|3697.07 |1216.47  \n",
    "3. | **Dengue** | MT862858 |816.63|-351.01|1728.46|2067.33|926.05 |1164.02  \n",
    "4. | **Enterovirus A** | NC038306 |33.56|201.33|429.91|229.41|397.55 |-165.63  \n",
    "5. | **HIV** | NC001802 |447.21|-939.66|2171.98|3040.84|1749.07 |1384.04  \n",
    "6. | **West Nile** | NC009942 |1324.54|-57.23|1054.20|1111.13|-273.42 |1382.03  \n",
    "7. | **Zika** | AY632535 |1381.19|-283.89|1147.27|1432.18|-237.85 |1663.35  \n",
    "\n",
    "\n",
    "  *It should be noted that, in skew language, CG does not represent a CG base pair but a comparison of the C with the G nucleotide proportions.*   \n",
    "\n",
    "Our target in this project is to create a dendrogram like the next dendrograms created using [**MEGA** *X* (**M**olecular **E**volutionary **G**enetics **A**nalysis software )](https://www.megasoftware.net/). Please note that this dendrogram was constructed by relying on [pairwise distances](https://en.wikipedia.org/wiki/Distance_matrix) and [multiple sequence alignments](https://en.wikipedia.org/wiki/Multiple_sequence_alignment). The dendrogram that we will create will depend on the cumulative skew profile, which in turn depends on the nucleotide **composition**, not the sequence.  \n",
    "<table><tr><td><img src='images/dendogram_H.png'></td><td><img src='images/dendogram.png'></td></tr></table>  \n",
    "\n",
    "Dendrogram (1) |  | Dendrogram (2) |\n",
    "---- | |-------- |  \n",
    "**Vertical lines show the distances** |  | **Horizontal lines show the distances** |\n",
    "\n",
    "The dendrogram can be drawn in any direction. In dendrogram (1), the lengths of vertical lines show the distances between different strains, while the lengths of the horizontal lines in this form of tree do not signify anything. They are merely drawn to space the strains conveniently. The opposite is in the dendrogram (2), the horizontal lines show the distances.  \n"
   ]
  },
  {
   "cell_type": "markdown",
   "metadata": {},
   "source": [
    "# Task 2: \n",
    "## 2.1. Importing Libraries \n",
    "\n",
    "First of all, we will need to import some libraries. These include \n",
    "\n",
    "- [os](https://docs.python.org/3/library/os.html) - Miscellaneous operating system interfaces,  \n",
    "- [statistics](https://docs.python.org/3/library/statistics.html) - Mathematical statistics functions  \n",
    "- [numpy](https://numpy.org/) - Package for scientific computing,  \n",
    "- [pandas](https://pandas.pydata.org/) - data analysis and manipulation tool,\n",
    "- [matplotlib](https://matplotlib.org/users/index.html) - Visualization with Python,\n",
    "    - [pyplot](https://matplotlib.org/api/_as_gen/matplotlib.pyplot.html#module-matplotlib.pyplot) - Interactive plots (*MATLAB-like way of plotting*),  \n",
    "- [scipy](https://www.scipy.org/) - Python-based ecosystem of open-source software for mathematics, science, and engineering. \n",
    "    - [dendrogram](https://docs.scipy.org/doc/scipy/reference/generated/scipy.cluster.hierarchy.dendrogram.html)  \n",
    "    - [linkage](https://docs.scipy.org/doc/scipy/reference/generated/scipy.cluster.hierarchy.linkage.html)  \n",
    "\n"
   ]
  },
  {
   "cell_type": "code",
   "execution_count": 1,
   "metadata": {},
   "outputs": [],
   "source": [
    "import os\n",
    "import statistics\n",
    "import numpy as np\n",
    "import pandas as pd\n",
    "import matplotlib.pyplot as plt \n",
    "from scipy.cluster.hierarchy import dendrogram, linkage"
   ]
  },
  {
   "cell_type": "markdown",
   "metadata": {},
   "source": [
    "##  2.2. Locate the Data Files\n",
    "\n",
    "All viruses that we will be analyzing are [RNA viruses](https://en.wikipedia.org/wiki/RNA_virus). In contrast to [DNA viruses](https://en.wikipedia.org/wiki/DNA_virus), which can reach **300** kilobases (kb) in size, RNA viruses have a size of about 30 kb. In late 2018, the [planarian nidovirus](https://www.ncbi.nlm.nih.gov/pmc/articles/PMC6211748/) genome size of **41** kb was discovered seting a new recored for the length of RNA genomes.  \n",
    "   \n",
    "**Classification & Genome sizes**:    \n",
    "  - Riboviria  \n",
    "     - Coronaviridae family,  \n",
    "      - [Coronavirus](https://en.wikipedia.org/wiki/Severe_acute_respiratory_syndrome_coronavirus_2) ≈ 30 Kb  \n",
    "      - [SARS Coronavirus](https://en.wikipedia.org/wiki/Severe_acute_respiratory_syndrome_coronavirus) ≈ 30 Kb  \n",
    "     - Flaviviridae family,  \n",
    "        - [Dengue virus](https://en.wikipedia.org/wiki/Dengue_virus) ≈ 11 Kb   \n",
    "        - [Zika](https://en.wikipedia.org/wiki/Zika_virus) ≈ 11 Kb  \n",
    "        - [West Nile virus](https://en.wikipedia.org/wiki/West_Nile_virus) ≈ 11 Kb  \n",
    "     - Picornaviridae  \n",
    "        - [Enterovirus](https://en.wikipedia.org/wiki/Enterovirus) ≈ 8 Kb   \n",
    "     - Retroviridae.  \n",
    "        - [HIV](https://en.wikipedia.org/wiki/HIV) ≈ 10 Kb   \n",
    "\n",
    " *N.B. Keep an eye on the [Corona_HCoV-NL63](https://en.wikipedia.org/wiki/Human_coronavirus_NL63) strain. It is one of the first strains discovered back in 2004 (doi: [10.1038/nm1024. Epub 2004 Mar 21](https://www.ncbi.nlm.nih.gov/pmc/articles/PMC7095789/)). It is interesting to know the differences and similarities between this strain and the newly discovered ones.*"
   ]
  },
  {
   "cell_type": "code",
   "execution_count": 2,
   "metadata": {
    "scrolled": false
   },
   "outputs": [
    {
     "name": "stdout",
     "output_type": "stream",
     "text": [
      "Corona_HCoV-NL63.txt\n",
      "Corona_MN988668.txt\n",
      "Corona_MT755827.txt\n",
      "Corona_MT759582.txt\n",
      "Corona_MT766907.txt\n",
      "Corona_NC045512.txt\n",
      "Dengue_MT862858.txt\n",
      "Dengue_MT862893.txt\n",
      "Enterovirus A_NC038306.txt\n",
      "Enterovirus B_NC038307.txt\n",
      "Enterovirus D_NC038308.txt\n",
      "Enterovirus H_NC038309.txt\n",
      "HIV_NC001802.txt\n",
      "SARS_BJ01.txt\n",
      "SARS_BJ02.txt\n",
      "SARS_BJ03.txt\n",
      "SARS_BJ04.txt\n",
      "West Nile_NC009942.txt\n",
      "Zika_AY632535.txt\n",
      "Zika_MN101548.txt\n"
     ]
    }
   ],
   "source": [
    "# List all data files \n",
    "# You need to change the path\n",
    "data_path = 'C:/Users/Administrator/Documents/data'\n",
    "for file in os.listdir(data_path):\n",
    "    print(file)"
   ]
  },
  {
   "cell_type": "markdown",
   "metadata": {},
   "source": [
    "##  2.3.  Calculate the Cumulative and Mean Skew Values.\n"
   ]
  },
  {
   "cell_type": "code",
   "execution_count": 3,
   "metadata": {},
   "outputs": [],
   "source": [
    "# define 'bases_skew' function to calculate the skew values.\n",
    "def bases_skew(A, B):\n",
    "    try: return (A - B) / (A + B)\n",
    "    except ZeroDivisionError: return 0"
   ]
  },
  {
   "cell_type": "code",
   "execution_count": 4,
   "metadata": {},
   "outputs": [],
   "source": [
    "mat = np.array([])                # Cumulative skew values\n",
    "mat2 = np.array([])               # Mean skew values\n",
    "virus_names = list()\n",
    "\n",
    "for file in os.listdir(data_path):\n",
    "    input_file_path = data_path + '/' + file\n",
    "    #print(input_file_path)\n",
    "    counter = 0; A_count = 0; C_count = 0; G_count = 0; U_count = 0\n",
    "    ca_skew = []; ga_skew = []; ua_skew = []; uc_skew = []; ug_skew = []; cg_skew = []  \n",
    "    \n",
    "    temp_DNA = ''           # One line of Template DNA Sequence\n",
    "    with open(input_file_path,'r') as input_data:\n",
    "        header = input_data.readline().strip()\n",
    "        for line in input_data:\n",
    "            temp_DNA = line.strip()\n",
    "            for base in temp_DNA:\n",
    "                counter += 1\n",
    "                if base == \"A\":\n",
    "                    U_count +=1                  \n",
    "                elif base == \"C\":\n",
    "                    G_count +=1\n",
    "                elif base == \"G\":\n",
    "                    C_count +=1\n",
    "                elif base == \"T\":\n",
    "                    A_count +=1        \n",
    "\n",
    "                ca_skew.insert(counter, bases_skew(C_count, A_count))\n",
    "                ga_skew.insert(counter, bases_skew(G_count, A_count))\n",
    "                ua_skew.insert(counter, bases_skew(U_count, A_count))\n",
    "                ug_skew.insert(counter, bases_skew(U_count, G_count))\n",
    "                uc_skew.insert(counter, bases_skew(U_count, C_count))\n",
    "                cg_skew.insert(counter, bases_skew(C_count, G_count))            \n",
    "\n",
    "        #print('File name ', file)\n",
    "        #print('Total bases: ', counter)\n",
    "        #print('Cumulative ca_skew = ', np.cumsum(ca_skew)[len(ca_skew)-1])\n",
    "        #print('Cumulative ga_skew = ',np.cumsum(ga_skew)[len(ga_skew)-1])\n",
    "        #print('Cumulative ua_skew = ',np.cumsum(ua_skew)[len(ua_skew)-1])\n",
    "        #print('Cumulative ug_skew = ',np.cumsum(ug_skew)[len(ug_skew)-1])\n",
    "        #print('Cumulative uc_skew = ',np.cumsum(uc_skew)[len(uc_skew)-1])\n",
    "        #print('Cumulative cg_skew = ',np.cumsum(cg_skew)[len(cg_skew)-1])\n",
    "        #print('==============================================')\n",
    "        #print('Mean ca_skew = ', statistics.mean(ca_skew))\n",
    "        #print('Mean ga_skew = ', statistics.mean(ga_skew))\n",
    "        #print('Mean ua_skew = ', statistics.mean(ua_skew))\n",
    "        #print('Mean ug_skew = ', statistics.mean(ug_skew))\n",
    "        #print('Mean uc_skew = ', statistics.mean(uc_skew))\n",
    "        #print('Mean cg_skew = ', statistics.mean(cg_skew))\n",
    "        \n",
    "        # Get the virus name from the file name\n",
    "        virus_Name = os.path.split(input_file_path)[1].split(\".\")[0]\n",
    "        # Insert the virus name into the virus names list\n",
    "        virus_names.append(virus_Name)\n",
    "        c = 10\n",
    "        if mat.shape == (0,):\n",
    "            #print('The mat is empty, use hstack.')\n",
    "            mat = np.hstack((mat, np.array([np.cumsum(ca_skew)[len(ca_skew)-1],\n",
    "                                            np.cumsum(ga_skew)[len(ga_skew)-1],\n",
    "                                            np.cumsum(ua_skew)[len(ua_skew)-1],\n",
    "                                            np.cumsum(ug_skew)[len(ug_skew)-1],\n",
    "                                            np.cumsum(uc_skew)[len(uc_skew)-1],\n",
    "                                            np.cumsum(cg_skew)[len(cg_skew)-1]                                            \n",
    "                                           ])))\n",
    "            mat2 = np.hstack((mat2, np.array([(statistics.mean(ca_skew))*c,\n",
    "                                            (statistics.mean(ga_skew))*c,\n",
    "                                            (statistics.mean(ua_skew))*c,\n",
    "                                            (statistics.mean(ug_skew))*c,\n",
    "                                            (statistics.mean(uc_skew))*c,\n",
    "                                            (statistics.mean(cg_skew))*c                                            \n",
    "                                           ])))\n",
    "        else:\n",
    "            #print('The mat has at least one row, use vstack.')\n",
    "            mat = np.vstack((mat, np.array([np.cumsum(ca_skew)[len(ca_skew)-1],\n",
    "                                            np.cumsum(ga_skew)[len(ga_skew)-1],\n",
    "                                            np.cumsum(ua_skew)[len(ua_skew)-1],\n",
    "                                            np.cumsum(ug_skew)[len(ug_skew)-1],\n",
    "                                            np.cumsum(uc_skew)[len(uc_skew)-1],\n",
    "                                            np.cumsum(cg_skew)[len(cg_skew)-1]                                            \n",
    "                                           ])))    \n",
    "            mat2 = np.vstack((mat2, np.array([(statistics.mean(ca_skew))*c,\n",
    "                                            (statistics.mean(ga_skew))*c,\n",
    "                                            (statistics.mean(ua_skew))*c,\n",
    "                                            (statistics.mean(ug_skew))*c,\n",
    "                                            (statistics.mean(uc_skew))*c,\n",
    "                                            (statistics.mean(cg_skew))*c                                            \n",
    "                                           ])))    \n",
    "        \n",
    "        #plt.figure(figsize=(9,6))\n",
    "        #plt.plot(np.cumsum(ca_skew), label=\"Cumulative CA Skew\") \n",
    "        #plt.plot(np.cumsum(ga_skew), label=\"Cumulative GA Skew\") \n",
    "        #plt.plot(np.cumsum(ua_skew), label=\"Cumulative UA Skew\") \n",
    "        #plt.plot(np.cumsum(ug_skew), label=\"Cumulative UG Skew\") \n",
    "        #plt.plot(np.cumsum(uc_skew), label=\"Cumulative UC Skew\") \n",
    "        #plt.plot(np.cumsum(cg_skew), label=\"Cumulative CG Skew\")      \n",
    "        #plt.title(virus_Name + \" Skew Profiles\")\n",
    "        #plt.legend()\n",
    "        #plt.grid()\n",
    "        ### You can use 'plt.savefig()' to save the plot, but that will slow down the code even more!\n",
    "        ##plt.savefig(virus_Name + '.png', dpi=72, bbox_inches='tight')\n",
    "        #plt.show()    \n",
    "        #plt.close()\n",
    "        input_data.close()"
   ]
  },
  {
   "cell_type": "code",
   "execution_count": 5,
   "metadata": {},
   "outputs": [
    {
     "data": {
      "text/plain": [
       "array([1.       , 5.       , 0.0096476, 2.       ])"
      ]
     },
     "execution_count": 5,
     "metadata": {},
     "output_type": "execute_result"
    }
   ],
   "source": [
    "linkage(mat2)[0,]"
   ]
  },
  {
   "cell_type": "markdown",
   "metadata": {},
   "source": [
    "# Task 3: Understand the data set"
   ]
  },
  {
   "cell_type": "code",
   "execution_count": 6,
   "metadata": {},
   "outputs": [
    {
     "name": "stdout",
     "output_type": "stream",
     "text": [
      "20\n"
     ]
    },
    {
     "data": {
      "text/plain": [
       "['Corona_HCoV-NL63',\n",
       " 'Corona_MN988668',\n",
       " 'Corona_MT755827',\n",
       " 'Corona_MT759582',\n",
       " 'Corona_MT766907',\n",
       " 'Corona_NC045512',\n",
       " 'Dengue_MT862858',\n",
       " 'Dengue_MT862893',\n",
       " 'Enterovirus A_NC038306',\n",
       " 'Enterovirus B_NC038307',\n",
       " 'Enterovirus D_NC038308',\n",
       " 'Enterovirus H_NC038309',\n",
       " 'HIV_NC001802',\n",
       " 'SARS_BJ01',\n",
       " 'SARS_BJ02',\n",
       " 'SARS_BJ03',\n",
       " 'SARS_BJ04',\n",
       " 'West Nile_NC009942',\n",
       " 'Zika_AY632535',\n",
       " 'Zika_MN101548']"
      ]
     },
     "execution_count": 6,
     "metadata": {},
     "output_type": "execute_result"
    }
   ],
   "source": [
    "print(len(virus_names))\n",
    "virus_names[:]"
   ]
  },
  {
   "cell_type": "code",
   "execution_count": 7,
   "metadata": {},
   "outputs": [
    {
     "name": "stdout",
     "output_type": "stream",
     "text": [
      "mat shape =  (20, 6)\n",
      "mat2 shape =  (20, 6)\n"
     ]
    }
   ],
   "source": [
    "print('mat shape = ', mat.shape)\n",
    "print('mat2 shape = ', mat2.shape)"
   ]
  },
  {
   "cell_type": "code",
   "execution_count": 8,
   "metadata": {},
   "outputs": [
    {
     "name": "stdout",
     "output_type": "stream",
     "text": [
      "-8892.718135634901\n",
      "-8892.72\n"
     ]
    }
   ],
   "source": [
    "print(mat[0,0])\n",
    "print(\"{:.2f}\".format(mat[0,0]))"
   ]
  },
  {
   "cell_type": "code",
   "execution_count": 9,
   "metadata": {},
   "outputs": [
    {
     "name": "stdout",
     "output_type": "stream",
     "text": [
      "[ -8892.71813563 -13454.3840888   -5947.28102079   8392.04623687\n",
      "   3165.31804809   5417.58910545]\n"
     ]
    }
   ],
   "source": [
    "print(mat[0,])"
   ]
  },
  {
   "cell_type": "code",
   "execution_count": 10,
   "metadata": {},
   "outputs": [
    {
     "name": "stdout",
     "output_type": "stream",
     "text": [
      "0  [ -8892.71813563 -13454.3840888   -5947.28102079   8392.04623687   3165.31804809   5417.58910545]\n",
      "1  [-6452.98699289 -8028.54945613  -918.9649018   7170.21888199  5574.67104164  1676.44382901]\n",
      "2  [-6476.32615371 -8071.24025314  -928.13283219  7203.71647803  5588.47631333  1697.3942333 ]\n",
      "... ...\n",
      "... ...\n",
      "19  [1352.1148887  -295.92443703 1152.42689342 1444.8624689  -202.88952768 1644.59149638]\n"
     ]
    }
   ],
   "source": [
    "np.set_printoptions(linewidth=150)\n",
    "print('0 ', mat[0,])\n",
    "print('1 ', mat[1,])\n",
    "print('2 ', mat[2,])\n",
    "print('...', '...')\n",
    "print('...', '...')\n",
    "print('19 ', mat[19,])"
   ]
  },
  {
   "cell_type": "code",
   "execution_count": 11,
   "metadata": {},
   "outputs": [
    {
     "name": "stdout",
     "output_type": "stream",
     "text": [
      "0  [-3.22749542 -4.88309225 -2.15848765  3.04578312  1.14881067  1.96624292]\n",
      "1  [-2.15956193 -2.68684095 -0.30754155  2.39959134  1.86562399  0.56104007]\n",
      "2  [-2.16577807 -2.69914064 -0.31038118  2.40902802  1.86886811  0.56763343]\n",
      "... ...\n",
      "... ...\n",
      "19  [ 1.2591869  -0.27558618  1.07322303  1.34556013 -0.18894536  1.53156221]\n"
     ]
    }
   ],
   "source": [
    "print('0 ', mat2[0,])\n",
    "print('1 ', mat2[1,])\n",
    "print('2 ', mat2[2,])\n",
    "print('...', '...')\n",
    "print('...', '...')\n",
    "print('19 ', mat2[19,])"
   ]
  },
  {
   "cell_type": "code",
   "execution_count": 12,
   "metadata": {},
   "outputs": [
    {
     "name": "stdout",
     "output_type": "stream",
     "text": [
      "['-8892.7', '-13454.4', '-5947.3', '8392.0', '3165.3', '5417.6']\n",
      "['-6453.0', '-8028.5', '-919.0', '7170.2', '5574.7', '1676.4']\n",
      "['-6476.3', '-8071.2', '-928.1', '7203.7', '5588.5', '1697.4']\n",
      "['-6392.6', '-8084.7', '-1013.4', '7133.5', '5420.5', '1795.3']\n"
     ]
    }
   ],
   "source": [
    "print(list(map('{:.1f}'.format, mat[0,])))\n",
    "print(list(map('{:.1f}'.format, mat[1,])))\n",
    "print(list(map('{:.1f}'.format, mat[2,])))\n",
    "print(list(map('{:.1f}'.format, mat[3,])))"
   ]
  },
  {
   "cell_type": "code",
   "execution_count": 13,
   "metadata": {},
   "outputs": [
    {
     "name": "stdout",
     "output_type": "stream",
     "text": [
      "['-0.323', '-0.488', '-0.216', '0.305', '0.115', '0.197']\n",
      "['-0.216', '-0.269', '-0.031', '0.240', '0.187', '0.056']\n",
      "['-0.217', '-0.270', '-0.031', '0.241', '0.187', '0.057']\n",
      "... ...\n",
      "... ...\n",
      "['0.126', '-0.028', '0.107', '0.135', '-0.019', '0.153']\n"
     ]
    }
   ],
   "source": [
    "print(list(map('{:.3f}'.format, [i/10 for i in mat2[0,]])))\n",
    "print(list(map('{:.3f}'.format, [i/10 for i in mat2[1,]])))\n",
    "print(list(map('{:.3f}'.format, [i/10 for i in mat2[2,]])))\n",
    "print('...', '...')\n",
    "print('...', '...')\n",
    "print(list(map('{:.3f}'.format, [i/10 for i in mat2[19,]])))"
   ]
  },
  {
   "cell_type": "code",
   "execution_count": 14,
   "metadata": {},
   "outputs": [
    {
     "data": {
      "text/html": [
       "<div>\n",
       "<style scoped>\n",
       "    .dataframe tbody tr th:only-of-type {\n",
       "        vertical-align: middle;\n",
       "    }\n",
       "\n",
       "    .dataframe tbody tr th {\n",
       "        vertical-align: top;\n",
       "    }\n",
       "\n",
       "    .dataframe thead th {\n",
       "        text-align: right;\n",
       "    }\n",
       "</style>\n",
       "<table border=\"1\" class=\"dataframe\">\n",
       "  <thead>\n",
       "    <tr style=\"text-align: right;\">\n",
       "      <th></th>\n",
       "      <th>ca_skew</th>\n",
       "      <th>ga_skew</th>\n",
       "      <th>ua_skew</th>\n",
       "      <th>ug_skew</th>\n",
       "      <th>uc_skew</th>\n",
       "      <th>cg_skew</th>\n",
       "    </tr>\n",
       "  </thead>\n",
       "  <tbody>\n",
       "    <tr>\n",
       "      <th>Corona_HCoV-NL63</th>\n",
       "      <td>-8892.72</td>\n",
       "      <td>-13454.38</td>\n",
       "      <td>-5947.28</td>\n",
       "      <td>8392.05</td>\n",
       "      <td>3165.32</td>\n",
       "      <td>5417.59</td>\n",
       "    </tr>\n",
       "    <tr>\n",
       "      <th>Corona_MN988668</th>\n",
       "      <td>-6452.99</td>\n",
       "      <td>-8028.55</td>\n",
       "      <td>-918.96</td>\n",
       "      <td>7170.22</td>\n",
       "      <td>5574.67</td>\n",
       "      <td>1676.44</td>\n",
       "    </tr>\n",
       "    <tr>\n",
       "      <th>Corona_MT755827</th>\n",
       "      <td>-6476.33</td>\n",
       "      <td>-8071.24</td>\n",
       "      <td>-928.13</td>\n",
       "      <td>7203.72</td>\n",
       "      <td>5588.48</td>\n",
       "      <td>1697.39</td>\n",
       "    </tr>\n",
       "    <tr>\n",
       "      <th>Corona_MT759582</th>\n",
       "      <td>-6392.58</td>\n",
       "      <td>-8084.69</td>\n",
       "      <td>-1013.36</td>\n",
       "      <td>7133.52</td>\n",
       "      <td>5420.50</td>\n",
       "      <td>1795.32</td>\n",
       "    </tr>\n",
       "    <tr>\n",
       "      <th>Corona_MT766907</th>\n",
       "      <td>-6347.71</td>\n",
       "      <td>-8089.15</td>\n",
       "      <td>-943.60</td>\n",
       "      <td>7206.93</td>\n",
       "      <td>5444.58</td>\n",
       "      <td>1846.75</td>\n",
       "    </tr>\n",
       "    <tr>\n",
       "      <th>Corona_NC045512</th>\n",
       "      <td>-6458.06</td>\n",
       "      <td>-8034.26</td>\n",
       "      <td>-902.06</td>\n",
       "      <td>7191.16</td>\n",
       "      <td>5595.44</td>\n",
       "      <td>1677.13</td>\n",
       "    </tr>\n",
       "    <tr>\n",
       "      <th>Dengue_MT862858</th>\n",
       "      <td>907.99</td>\n",
       "      <td>-114.88</td>\n",
       "      <td>1841.00</td>\n",
       "      <td>1955.26</td>\n",
       "      <td>952.23</td>\n",
       "      <td>1021.56</td>\n",
       "    </tr>\n",
       "    <tr>\n",
       "      <th>Dengue_MT862893</th>\n",
       "      <td>917.53</td>\n",
       "      <td>-124.85</td>\n",
       "      <td>1845.74</td>\n",
       "      <td>1969.50</td>\n",
       "      <td>947.53</td>\n",
       "      <td>1040.92</td>\n",
       "    </tr>\n",
       "    <tr>\n",
       "      <th>Enterovirus A_NC038306</th>\n",
       "      <td>7.85</td>\n",
       "      <td>188.96</td>\n",
       "      <td>270.06</td>\n",
       "      <td>80.26</td>\n",
       "      <td>260.78</td>\n",
       "      <td>-182.11</td>\n",
       "    </tr>\n",
       "    <tr>\n",
       "      <th>Enterovirus B_NC038307</th>\n",
       "      <td>134.34</td>\n",
       "      <td>201.25</td>\n",
       "      <td>596.30</td>\n",
       "      <td>395.27</td>\n",
       "      <td>461.43</td>\n",
       "      <td>-67.37</td>\n",
       "    </tr>\n",
       "    <tr>\n",
       "      <th>Enterovirus D_NC038308</th>\n",
       "      <td>-842.53</td>\n",
       "      <td>-747.48</td>\n",
       "      <td>381.86</td>\n",
       "      <td>1118.93</td>\n",
       "      <td>1212.60</td>\n",
       "      <td>-96.39</td>\n",
       "    </tr>\n",
       "    <tr>\n",
       "      <th>Enterovirus H_NC038309</th>\n",
       "      <td>-255.04</td>\n",
       "      <td>-298.53</td>\n",
       "      <td>290.58</td>\n",
       "      <td>586.04</td>\n",
       "      <td>543.55</td>\n",
       "      <td>44.60</td>\n",
       "    </tr>\n",
       "    <tr>\n",
       "      <th>HIV_NC001802</th>\n",
       "      <td>662.92</td>\n",
       "      <td>-648.06</td>\n",
       "      <td>2278.82</td>\n",
       "      <td>2865.17</td>\n",
       "      <td>1644.05</td>\n",
       "      <td>1306.64</td>\n",
       "    </tr>\n",
       "    <tr>\n",
       "      <th>SARS_BJ01</th>\n",
       "      <td>-4673.66</td>\n",
       "      <td>-5852.78</td>\n",
       "      <td>-1008.29</td>\n",
       "      <td>4887.03</td>\n",
       "      <td>3697.07</td>\n",
       "      <td>1216.47</td>\n",
       "    </tr>\n",
       "    <tr>\n",
       "      <th>SARS_BJ02</th>\n",
       "      <td>-4795.84</td>\n",
       "      <td>-5961.80</td>\n",
       "      <td>-1080.74</td>\n",
       "      <td>4924.53</td>\n",
       "      <td>3742.74</td>\n",
       "      <td>1209.34</td>\n",
       "    </tr>\n",
       "    <tr>\n",
       "      <th>SARS_BJ03</th>\n",
       "      <td>-4758.62</td>\n",
       "      <td>-5908.16</td>\n",
       "      <td>-1096.24</td>\n",
       "      <td>4856.45</td>\n",
       "      <td>3689.25</td>\n",
       "      <td>1190.51</td>\n",
       "    </tr>\n",
       "    <tr>\n",
       "      <th>SARS_BJ04</th>\n",
       "      <td>-4711.67</td>\n",
       "      <td>-5868.52</td>\n",
       "      <td>-1017.46</td>\n",
       "      <td>4892.61</td>\n",
       "      <td>3722.20</td>\n",
       "      <td>1197.49</td>\n",
       "    </tr>\n",
       "    <tr>\n",
       "      <th>West Nile_NC009942</th>\n",
       "      <td>1324.54</td>\n",
       "      <td>-57.23</td>\n",
       "      <td>1054.20</td>\n",
       "      <td>1111.13</td>\n",
       "      <td>-273.42</td>\n",
       "      <td>1382.03</td>\n",
       "    </tr>\n",
       "    <tr>\n",
       "      <th>Zika_AY632535</th>\n",
       "      <td>1381.19</td>\n",
       "      <td>-283.89</td>\n",
       "      <td>1147.27</td>\n",
       "      <td>1432.18</td>\n",
       "      <td>-237.85</td>\n",
       "      <td>1663.35</td>\n",
       "    </tr>\n",
       "    <tr>\n",
       "      <th>Zika_MN101548</th>\n",
       "      <td>1352.11</td>\n",
       "      <td>-295.92</td>\n",
       "      <td>1152.43</td>\n",
       "      <td>1444.86</td>\n",
       "      <td>-202.89</td>\n",
       "      <td>1644.59</td>\n",
       "    </tr>\n",
       "  </tbody>\n",
       "</table>\n",
       "</div>"
      ],
      "text/plain": [
       "                         ca_skew    ga_skew   ua_skew  ug_skew  uc_skew  \\\n",
       "Corona_HCoV-NL63        -8892.72  -13454.38  -5947.28  8392.05  3165.32   \n",
       "Corona_MN988668         -6452.99   -8028.55   -918.96  7170.22  5574.67   \n",
       "Corona_MT755827         -6476.33   -8071.24   -928.13  7203.72  5588.48   \n",
       "Corona_MT759582         -6392.58   -8084.69  -1013.36  7133.52  5420.50   \n",
       "Corona_MT766907         -6347.71   -8089.15   -943.60  7206.93  5444.58   \n",
       "Corona_NC045512         -6458.06   -8034.26   -902.06  7191.16  5595.44   \n",
       "Dengue_MT862858           907.99    -114.88   1841.00  1955.26   952.23   \n",
       "Dengue_MT862893           917.53    -124.85   1845.74  1969.50   947.53   \n",
       "Enterovirus A_NC038306      7.85     188.96    270.06    80.26   260.78   \n",
       "Enterovirus B_NC038307    134.34     201.25    596.30   395.27   461.43   \n",
       "Enterovirus D_NC038308   -842.53    -747.48    381.86  1118.93  1212.60   \n",
       "Enterovirus H_NC038309   -255.04    -298.53    290.58   586.04   543.55   \n",
       "HIV_NC001802              662.92    -648.06   2278.82  2865.17  1644.05   \n",
       "SARS_BJ01               -4673.66   -5852.78  -1008.29  4887.03  3697.07   \n",
       "SARS_BJ02               -4795.84   -5961.80  -1080.74  4924.53  3742.74   \n",
       "SARS_BJ03               -4758.62   -5908.16  -1096.24  4856.45  3689.25   \n",
       "SARS_BJ04               -4711.67   -5868.52  -1017.46  4892.61  3722.20   \n",
       "West Nile_NC009942       1324.54     -57.23   1054.20  1111.13  -273.42   \n",
       "Zika_AY632535            1381.19    -283.89   1147.27  1432.18  -237.85   \n",
       "Zika_MN101548            1352.11    -295.92   1152.43  1444.86  -202.89   \n",
       "\n",
       "                        cg_skew  \n",
       "Corona_HCoV-NL63        5417.59  \n",
       "Corona_MN988668         1676.44  \n",
       "Corona_MT755827         1697.39  \n",
       "Corona_MT759582         1795.32  \n",
       "Corona_MT766907         1846.75  \n",
       "Corona_NC045512         1677.13  \n",
       "Dengue_MT862858         1021.56  \n",
       "Dengue_MT862893         1040.92  \n",
       "Enterovirus A_NC038306  -182.11  \n",
       "Enterovirus B_NC038307   -67.37  \n",
       "Enterovirus D_NC038308   -96.39  \n",
       "Enterovirus H_NC038309    44.60  \n",
       "HIV_NC001802            1306.64  \n",
       "SARS_BJ01               1216.47  \n",
       "SARS_BJ02               1209.34  \n",
       "SARS_BJ03               1190.51  \n",
       "SARS_BJ04               1197.49  \n",
       "West Nile_NC009942      1382.03  \n",
       "Zika_AY632535           1663.35  \n",
       "Zika_MN101548           1644.59  "
      ]
     },
     "execution_count": 14,
     "metadata": {},
     "output_type": "execute_result"
    }
   ],
   "source": [
    "df = pd.DataFrame(np.array([\n",
    "        list(map('{:.2f}'.format, mat[0,])), list(map('{:.2f}'.format, mat[1,])),\n",
    "        list(map('{:.2f}'.format, mat[2,])), list(map('{:.2f}'.format, mat[3,])),\n",
    "        list(map('{:.2f}'.format, mat[4,])), list(map('{:.2f}'.format, mat[5,])),\n",
    "        list(map('{:.2f}'.format, mat[6,])), list(map('{:.2f}'.format, mat[7,])),\n",
    "        list(map('{:.2f}'.format, mat[8,])), list(map('{:.2f}'.format, mat[9,])),\n",
    "        list(map('{:.2f}'.format, mat[10,])), list(map('{:.2f}'.format, mat[11,])),\n",
    "        list(map('{:.2f}'.format, mat[12,])), list(map('{:.2f}'.format, mat[13,])),\n",
    "        list(map('{:.2f}'.format, mat[14,])), list(map('{:.2f}'.format, mat[15,])),\n",
    "        list(map('{:.2f}'.format, mat[16,])), list(map('{:.2f}'.format, mat[17,])),\n",
    "        list(map('{:.2f}'.format, mat[18,])), list(map('{:.2f}'.format, mat[19,]))      \n",
    "        ]),\n",
    "        columns=['ca_skew', 'ga_skew', 'ua_skew','ug_skew', 'uc_skew', 'cg_skew'],\n",
    "        index=virus_names[:])\n",
    "df"
   ]
  },
  {
   "cell_type": "code",
   "execution_count": 15,
   "metadata": {},
   "outputs": [
    {
     "data": {
      "text/html": [
       "<div>\n",
       "<style scoped>\n",
       "    .dataframe tbody tr th:only-of-type {\n",
       "        vertical-align: middle;\n",
       "    }\n",
       "\n",
       "    .dataframe tbody tr th {\n",
       "        vertical-align: top;\n",
       "    }\n",
       "\n",
       "    .dataframe thead th {\n",
       "        text-align: right;\n",
       "    }\n",
       "</style>\n",
       "<table border=\"1\" class=\"dataframe\">\n",
       "  <thead>\n",
       "    <tr style=\"text-align: right;\">\n",
       "      <th></th>\n",
       "      <th>ca_skew</th>\n",
       "      <th>ga_skew</th>\n",
       "      <th>ua_skew</th>\n",
       "      <th>ug_skew</th>\n",
       "      <th>uc_skew</th>\n",
       "      <th>cg_skew</th>\n",
       "    </tr>\n",
       "  </thead>\n",
       "  <tbody>\n",
       "    <tr>\n",
       "      <th>Corona_HCoV-NL63</th>\n",
       "      <td>-0.32</td>\n",
       "      <td>-0.49</td>\n",
       "      <td>-0.22</td>\n",
       "      <td>0.30</td>\n",
       "      <td>0.11</td>\n",
       "      <td>0.20</td>\n",
       "    </tr>\n",
       "    <tr>\n",
       "      <th>Corona_MN988668</th>\n",
       "      <td>-0.22</td>\n",
       "      <td>-0.27</td>\n",
       "      <td>-0.03</td>\n",
       "      <td>0.24</td>\n",
       "      <td>0.19</td>\n",
       "      <td>0.06</td>\n",
       "    </tr>\n",
       "    <tr>\n",
       "      <th>Corona_MT755827</th>\n",
       "      <td>-0.22</td>\n",
       "      <td>-0.27</td>\n",
       "      <td>-0.03</td>\n",
       "      <td>0.24</td>\n",
       "      <td>0.19</td>\n",
       "      <td>0.06</td>\n",
       "    </tr>\n",
       "    <tr>\n",
       "      <th>Corona_MT759582</th>\n",
       "      <td>-0.21</td>\n",
       "      <td>-0.27</td>\n",
       "      <td>-0.03</td>\n",
       "      <td>0.24</td>\n",
       "      <td>0.18</td>\n",
       "      <td>0.06</td>\n",
       "    </tr>\n",
       "    <tr>\n",
       "      <th>Corona_MT766907</th>\n",
       "      <td>-0.21</td>\n",
       "      <td>-0.27</td>\n",
       "      <td>-0.03</td>\n",
       "      <td>0.24</td>\n",
       "      <td>0.18</td>\n",
       "      <td>0.06</td>\n",
       "    </tr>\n",
       "    <tr>\n",
       "      <th>Corona_NC045512</th>\n",
       "      <td>-0.22</td>\n",
       "      <td>-0.27</td>\n",
       "      <td>-0.03</td>\n",
       "      <td>0.24</td>\n",
       "      <td>0.19</td>\n",
       "      <td>0.06</td>\n",
       "    </tr>\n",
       "    <tr>\n",
       "      <th>Dengue_MT862858</th>\n",
       "      <td>0.09</td>\n",
       "      <td>-0.01</td>\n",
       "      <td>0.18</td>\n",
       "      <td>0.19</td>\n",
       "      <td>0.09</td>\n",
       "      <td>0.10</td>\n",
       "    </tr>\n",
       "    <tr>\n",
       "      <th>Dengue_MT862893</th>\n",
       "      <td>0.09</td>\n",
       "      <td>-0.01</td>\n",
       "      <td>0.18</td>\n",
       "      <td>0.19</td>\n",
       "      <td>0.09</td>\n",
       "      <td>0.10</td>\n",
       "    </tr>\n",
       "    <tr>\n",
       "      <th>Enterovirus A_NC038306</th>\n",
       "      <td>0.00</td>\n",
       "      <td>0.03</td>\n",
       "      <td>0.04</td>\n",
       "      <td>0.01</td>\n",
       "      <td>0.04</td>\n",
       "      <td>-0.02</td>\n",
       "    </tr>\n",
       "    <tr>\n",
       "      <th>Enterovirus B_NC038307</th>\n",
       "      <td>0.02</td>\n",
       "      <td>0.03</td>\n",
       "      <td>0.08</td>\n",
       "      <td>0.05</td>\n",
       "      <td>0.06</td>\n",
       "      <td>-0.01</td>\n",
       "    </tr>\n",
       "    <tr>\n",
       "      <th>Enterovirus D_NC038308</th>\n",
       "      <td>-0.11</td>\n",
       "      <td>-0.10</td>\n",
       "      <td>0.05</td>\n",
       "      <td>0.15</td>\n",
       "      <td>0.16</td>\n",
       "      <td>-0.01</td>\n",
       "    </tr>\n",
       "    <tr>\n",
       "      <th>Enterovirus H_NC038309</th>\n",
       "      <td>-0.03</td>\n",
       "      <td>-0.04</td>\n",
       "      <td>0.04</td>\n",
       "      <td>0.08</td>\n",
       "      <td>0.07</td>\n",
       "      <td>0.01</td>\n",
       "    </tr>\n",
       "    <tr>\n",
       "      <th>HIV_NC001802</th>\n",
       "      <td>0.07</td>\n",
       "      <td>-0.07</td>\n",
       "      <td>0.25</td>\n",
       "      <td>0.31</td>\n",
       "      <td>0.18</td>\n",
       "      <td>0.14</td>\n",
       "    </tr>\n",
       "    <tr>\n",
       "      <th>SARS_BJ01</th>\n",
       "      <td>-0.16</td>\n",
       "      <td>-0.20</td>\n",
       "      <td>-0.03</td>\n",
       "      <td>0.16</td>\n",
       "      <td>0.12</td>\n",
       "      <td>0.04</td>\n",
       "    </tr>\n",
       "    <tr>\n",
       "      <th>SARS_BJ02</th>\n",
       "      <td>-0.16</td>\n",
       "      <td>-0.20</td>\n",
       "      <td>-0.04</td>\n",
       "      <td>0.17</td>\n",
       "      <td>0.13</td>\n",
       "      <td>0.04</td>\n",
       "    </tr>\n",
       "    <tr>\n",
       "      <th>SARS_BJ03</th>\n",
       "      <td>-0.16</td>\n",
       "      <td>-0.20</td>\n",
       "      <td>-0.04</td>\n",
       "      <td>0.16</td>\n",
       "      <td>0.12</td>\n",
       "      <td>0.04</td>\n",
       "    </tr>\n",
       "    <tr>\n",
       "      <th>SARS_BJ04</th>\n",
       "      <td>-0.16</td>\n",
       "      <td>-0.20</td>\n",
       "      <td>-0.03</td>\n",
       "      <td>0.16</td>\n",
       "      <td>0.13</td>\n",
       "      <td>0.04</td>\n",
       "    </tr>\n",
       "    <tr>\n",
       "      <th>West Nile_NC009942</th>\n",
       "      <td>0.12</td>\n",
       "      <td>-0.01</td>\n",
       "      <td>0.10</td>\n",
       "      <td>0.10</td>\n",
       "      <td>-0.02</td>\n",
       "      <td>0.13</td>\n",
       "    </tr>\n",
       "    <tr>\n",
       "      <th>Zika_AY632535</th>\n",
       "      <td>0.13</td>\n",
       "      <td>-0.03</td>\n",
       "      <td>0.11</td>\n",
       "      <td>0.13</td>\n",
       "      <td>-0.02</td>\n",
       "      <td>0.15</td>\n",
       "    </tr>\n",
       "    <tr>\n",
       "      <th>Zika_MN101548</th>\n",
       "      <td>0.13</td>\n",
       "      <td>-0.03</td>\n",
       "      <td>0.11</td>\n",
       "      <td>0.13</td>\n",
       "      <td>-0.02</td>\n",
       "      <td>0.15</td>\n",
       "    </tr>\n",
       "  </tbody>\n",
       "</table>\n",
       "</div>"
      ],
      "text/plain": [
       "                       ca_skew ga_skew ua_skew ug_skew uc_skew cg_skew\n",
       "Corona_HCoV-NL63         -0.32   -0.49   -0.22    0.30    0.11    0.20\n",
       "Corona_MN988668          -0.22   -0.27   -0.03    0.24    0.19    0.06\n",
       "Corona_MT755827          -0.22   -0.27   -0.03    0.24    0.19    0.06\n",
       "Corona_MT759582          -0.21   -0.27   -0.03    0.24    0.18    0.06\n",
       "Corona_MT766907          -0.21   -0.27   -0.03    0.24    0.18    0.06\n",
       "Corona_NC045512          -0.22   -0.27   -0.03    0.24    0.19    0.06\n",
       "Dengue_MT862858           0.09   -0.01    0.18    0.19    0.09    0.10\n",
       "Dengue_MT862893           0.09   -0.01    0.18    0.19    0.09    0.10\n",
       "Enterovirus A_NC038306    0.00    0.03    0.04    0.01    0.04   -0.02\n",
       "Enterovirus B_NC038307    0.02    0.03    0.08    0.05    0.06   -0.01\n",
       "Enterovirus D_NC038308   -0.11   -0.10    0.05    0.15    0.16   -0.01\n",
       "Enterovirus H_NC038309   -0.03   -0.04    0.04    0.08    0.07    0.01\n",
       "HIV_NC001802              0.07   -0.07    0.25    0.31    0.18    0.14\n",
       "SARS_BJ01                -0.16   -0.20   -0.03    0.16    0.12    0.04\n",
       "SARS_BJ02                -0.16   -0.20   -0.04    0.17    0.13    0.04\n",
       "SARS_BJ03                -0.16   -0.20   -0.04    0.16    0.12    0.04\n",
       "SARS_BJ04                -0.16   -0.20   -0.03    0.16    0.13    0.04\n",
       "West Nile_NC009942        0.12   -0.01    0.10    0.10   -0.02    0.13\n",
       "Zika_AY632535             0.13   -0.03    0.11    0.13   -0.02    0.15\n",
       "Zika_MN101548             0.13   -0.03    0.11    0.13   -0.02    0.15"
      ]
     },
     "execution_count": 15,
     "metadata": {},
     "output_type": "execute_result"
    }
   ],
   "source": [
    "df2 = pd.DataFrame(np.array([\n",
    "        list(map('{:.2f}'.format, [i/10 for i in mat2[0,]])), \n",
    "        list(map('{:.2f}'.format, [i/10 for i in mat2[1,]])), \n",
    "        list(map('{:.2f}'.format, [i/10 for i in mat2[2,]])), \n",
    "        list(map('{:.2f}'.format, [i/10 for i in mat2[3,]])), \n",
    "        list(map('{:.2f}'.format, [i/10 for i in mat2[4,]])), \n",
    "        list(map('{:.2f}'.format, [i/10 for i in mat2[5,]])), \n",
    "        list(map('{:.2f}'.format, [i/10 for i in mat2[6,]])), \n",
    "        list(map('{:.2f}'.format, [i/10 for i in mat2[7,]])), \n",
    "        list(map('{:.2f}'.format, [i/10 for i in mat2[8,]])), \n",
    "        list(map('{:.2f}'.format, [i/10 for i in mat2[9,]])), \n",
    "        list(map('{:.2f}'.format, [i/10 for i in mat2[10,]])), \n",
    "        list(map('{:.2f}'.format, [i/10 for i in mat2[11,]])), \n",
    "        list(map('{:.2f}'.format, [i/10 for i in mat2[12,]])), \n",
    "        list(map('{:.2f}'.format, [i/10 for i in mat2[13,]])), \n",
    "        list(map('{:.2f}'.format, [i/10 for i in mat2[14,]])), \n",
    "        list(map('{:.2f}'.format, [i/10 for i in mat2[15,]])), \n",
    "        list(map('{:.2f}'.format, [i/10 for i in mat2[16,]])), \n",
    "        list(map('{:.2f}'.format, [i/10 for i in mat2[17,]])), \n",
    "        list(map('{:.2f}'.format, [i/10 for i in mat2[18,]])), \n",
    "        list(map('{:.2f}'.format, [i/10 for i in mat2[19,]]))    \n",
    "        ]),\n",
    "        columns=['ca_skew', 'ga_skew', 'ua_skew','ug_skew', 'uc_skew', 'cg_skew'],\n",
    "        index=virus_names[:])\n",
    "df2"
   ]
  },
  {
   "cell_type": "markdown",
   "metadata": {},
   "source": [
    "# Task 4: Hierarchical Clustering - Metric"
   ]
  },
  {
   "cell_type": "markdown",
   "metadata": {},
   "source": [
    "> Wikipedia\n",
    ">> In [Cartesian coordinates](https://en.wikipedia.org/wiki/Cartesian_coordinate_system) if $p = (p_1, p_2,\\cdots, p_n)$ and $q = (q_1, q_2,\\cdots, q_n)$ are two points in [Euclidean n-space](https://en.wikipedia.org/wiki/Euclidean_space), then the **Euclidean distance** (d) from **p** to **q**, or from **q** to **p**, is given by the [Pythagorean formula](https://en.wikipedia.org/wiki/Pythagorean_theorem):  \n",
    ">>$d(p, q) = d(q, p)= \\sqrt{\\sum_{i=1}^n (q_i - p_i)^2}$  \n",
    ">>$=\\sqrt{(q_1-p_1)^2+(q_2-p_2)^2+\\cdots+(q_n-p_n)^2}$  \n",
    "  \n",
    "  \n",
    "$d(Zika AY632535, Zika MN101548)=\n",
    "\\sqrt{(1381.19-1352.11)^2+(-283.89-(-295.92))^2+(1147.27-1152.43)^2+\n",
    "(1432.18-1444.86)^2+(-237.85-(-202.89))^2+(1663.35-1644.59)^2}\\approx52.46$\n",
    "\n",
    "\n",
    "\n",
    "\n",
    ">```python\n",
    "import math  \n",
    "dist = 0  \n",
    "for p, q in zip(mat[18,], mat[19,]):        \n",
    "    dist += math.pow((p-q), 2)  \n",
    "dist = math.sqrt(dist)\n",
    "print(dist)  \n",
    "> 52.45662363913553  \n",
    ">```\n",
    "  \n",
    "```python\n",
    "from scipy.cluster.hierarchy import linkage\n",
    "linkage(mat)\n",
    "```"
   ]
  },
  {
   "cell_type": "code",
   "execution_count": 16,
   "metadata": {
    "scrolled": true
   },
   "outputs": [
    {
     "name": "stdout",
     "output_type": "stream",
     "text": [
      "(19, 4)\n",
      "[[ 6.          7.         28.5101875   2.        ]\n",
      " [ 1.          5.         34.84341166  2.        ]\n",
      " [18.         19.         52.45662364  2.        ]]\n",
      "... ...\n",
      "[   0.           37.         8900.47217989   20.        ]\n"
     ]
    }
   ],
   "source": [
    "linkage_matrix = linkage(mat, \n",
    "                         method='single', \n",
    "                         metric='euclidean', \n",
    "                         optimal_ordering=False)\n",
    "print(linkage_matrix.shape)\n",
    "print(linkage_matrix[0:3])\n",
    "print('...', '...')\n",
    "print(linkage_matrix[18])"
   ]
  },
  {
   "cell_type": "code",
   "execution_count": 17,
   "metadata": {},
   "outputs": [
    {
     "name": "stdout",
     "output_type": "stream",
     "text": [
      "20 [ 6.         7.        28.5101875  2.       ]\n",
      "21 [ 1.          5.         34.84341166  2.        ]\n",
      "22 [18.         19.         52.45662364  2.        ]\n",
      "23 [13.         16.         52.91056314  2.        ]\n",
      "24 [ 2.        21.        54.7541342  3.       ]\n",
      "25 [ 14.          15.         111.14546016   2.        ]\n",
      "26 [ 23.          25.         111.45526329   4.        ]\n",
      "27 [  3.           4.         124.55923965   2.        ]\n",
      "28 [ 24.          27.         234.43283633   5.        ]\n",
      "29 [ 17.          22.         496.71392088   3.        ]\n",
      "30 [  8.           9.         524.63500631   2.        ]\n",
      "31 [ 11.          30.         741.97419156   3.        ]\n",
      "32 [  10.           31.         1143.03514609    4.        ]\n",
      "33 [  12.           20.         1372.62989182    3.        ]\n",
      "34 [  29.           33.         1631.54140784    6.        ]\n",
      "35 [  32.           34.         2201.42550557   10.        ]\n",
      "36 [  26.           28.         3885.69989123    9.        ]\n",
      "37 [  35.          36.        8047.9124615   19.       ]\n",
      "38 [   0.           37.         8900.47217989   20.        ]\n"
     ]
    }
   ],
   "source": [
    "y = 0\n",
    "for x in range(len(linkage_matrix)):\n",
    "    y+=1\n",
    "    print(len(linkage_matrix)+y, linkage_matrix[x])"
   ]
  },
  {
   "cell_type": "code",
   "execution_count": 18,
   "metadata": {},
   "outputs": [
    {
     "data": {
      "text/html": [
       "<div>\n",
       "<style scoped>\n",
       "    .dataframe tbody tr th:only-of-type {\n",
       "        vertical-align: middle;\n",
       "    }\n",
       "\n",
       "    .dataframe tbody tr th {\n",
       "        vertical-align: top;\n",
       "    }\n",
       "\n",
       "    .dataframe thead th {\n",
       "        text-align: right;\n",
       "    }\n",
       "</style>\n",
       "<table border=\"1\" class=\"dataframe\">\n",
       "  <thead>\n",
       "    <tr style=\"text-align: right;\">\n",
       "      <th></th>\n",
       "      <th>ca_skew</th>\n",
       "      <th>ga_skew</th>\n",
       "      <th>ua_skew</th>\n",
       "      <th>ug_skew</th>\n",
       "      <th>uc_skew</th>\n",
       "      <th>cg_skew</th>\n",
       "    </tr>\n",
       "  </thead>\n",
       "  <tbody>\n",
       "    <tr>\n",
       "      <th>Corona_MT755827</th>\n",
       "      <td>-6476.33</td>\n",
       "      <td>-8071.24</td>\n",
       "      <td>-928.13</td>\n",
       "      <td>7203.72</td>\n",
       "      <td>5588.48</td>\n",
       "      <td>1697.39</td>\n",
       "    </tr>\n",
       "    <tr>\n",
       "      <th>Corona_MN988668</th>\n",
       "      <td>-6452.99</td>\n",
       "      <td>-8028.55</td>\n",
       "      <td>-918.96</td>\n",
       "      <td>7170.22</td>\n",
       "      <td>5574.67</td>\n",
       "      <td>1676.44</td>\n",
       "    </tr>\n",
       "    <tr>\n",
       "      <th>Corona_NC045512</th>\n",
       "      <td>-6458.06</td>\n",
       "      <td>-8034.26</td>\n",
       "      <td>-902.06</td>\n",
       "      <td>7191.16</td>\n",
       "      <td>5595.44</td>\n",
       "      <td>1677.13</td>\n",
       "    </tr>\n",
       "  </tbody>\n",
       "</table>\n",
       "</div>"
      ],
      "text/plain": [
       "                  ca_skew   ga_skew  ua_skew  ug_skew  uc_skew  cg_skew\n",
       "Corona_MT755827  -6476.33  -8071.24  -928.13  7203.72  5588.48  1697.39\n",
       "Corona_MN988668  -6452.99  -8028.55  -918.96  7170.22  5574.67  1676.44\n",
       "Corona_NC045512  -6458.06  -8034.26  -902.06  7191.16  5595.44  1677.13"
      ]
     },
     "execution_count": 18,
     "metadata": {},
     "output_type": "execute_result"
    }
   ],
   "source": [
    "df.iloc[[2, 1,5], :]"
   ]
  },
  {
   "cell_type": "markdown",
   "metadata": {},
   "source": [
    "# Task 5: Hierarchical Clustering - Ordering & Methods"
   ]
  },
  {
   "cell_type": "markdown",
   "metadata": {},
   "source": [
    "## 5.1: Optimal Ordering\n",
    "\n",
    "> **Higgs and Attwood (2005)**:\n",
    ">>*It is often said that trees (the phylogenetics trees) are like hanging mobiles. You can imagine suspending them from the root and allowing the horizontal lines to swing around.*  \n",
    "\n",
    "\n",
    "<table><tr><td><img src='images/p_tree_1.png'></td><td><img src='images/p_tree_2.png'></td></tr></table>  \n",
    "\n",
    "Dendrogram (a) |  | Dendrogram (b) |\n",
    "---- | |:-------- |  \n",
    "**Vertical lines show the distances** |  | **Vertical lines show the distances** |\n",
    "\n",
    "Rooted trees. Tree (a) can be converted to tree (b) by swinging around the horizontal branches like mobiles. Hence (a) and\n",
    "(b) are equivalent to one another. (*modified from Higgs and Attwood - 2005*)\n",
    "\n",
    "\n",
    "**Paul G. Higgs and Teresa K. Attwood** (2005). Bioinformattics and Molecular Evolution. Willey-Blackwell. Print ISBN:9781405106832 |Online ISBN:9781118697078 |[DOI:10.1002/9781118697078](https://onlinelibrary.wiley.com/doi/book/10.1002/9781118697078)\n"
   ]
  },
  {
   "cell_type": "code",
   "execution_count": 19,
   "metadata": {
    "scrolled": true
   },
   "outputs": [
    {
     "name": "stdout",
     "output_type": "stream",
     "text": [
      "(19, 4)\n",
      "[ 6.         7.        28.5101875  2.       ]\n",
      "[ 5.          1.         34.84341166  2.        ]\n",
      "[18.         19.         52.45662364  2.        ]\n",
      "[16.         13.         52.91056314  2.        ]\n",
      "[ 2.        21.        54.7541342  3.       ]\n",
      "[ 14.          15.         111.14546016   2.        ]\n",
      "[ 25.          23.         111.45526329   4.        ]\n",
      "[  3.           4.         124.55923965   2.        ]\n",
      "[ 24.          27.         234.43283633   5.        ]\n",
      "[ 17.          22.         496.71392088   3.        ]\n",
      "[  9.           8.         524.63500631   2.        ]\n",
      "[ 11.          30.         741.97419156   3.        ]\n",
      "[  10.           31.         1143.03514609    4.        ]\n",
      "[  20.           12.         1372.62989182    3.        ]\n",
      "[  29.           33.         1631.54140784    6.        ]\n",
      "[  32.           34.         2201.42550557   10.        ]\n",
      "[  28.           26.         3885.69989123    9.        ]\n",
      "[  36.          35.        8047.9124615   19.       ]\n",
      "[   0.           37.         8900.47217989   20.        ]\n"
     ]
    }
   ],
   "source": [
    "linkage_matrix = linkage(mat, \n",
    "                         method='single', \n",
    "                         metric='euclidean', \n",
    "                         optimal_ordering=True)\n",
    "print(linkage_matrix.shape)\n",
    "for x in range(len(linkage_matrix)):\n",
    "    print(linkage_matrix[x])"
   ]
  },
  {
   "cell_type": "markdown",
   "metadata": {},
   "source": [
    "## 5.2: Clustring Methods\n",
    "\n",
    "```Python\n",
    "methods = ('single', 'complete', 'average', 'weighted', 'centroid', 'median', 'ward')\n",
    "```\n",
    "\n",
    "- **single** $^a$  \n",
    "  - $d(u,v) = min(dist(u[i], v[j])$  \n",
    "   - [Nearest Point Algorithm](https://en.wikipedia.org/wiki/Nearest_neighbor_search)  \n",
    "  \n",
    "- **complete** $^a$  \n",
    "  - $d(u,v) = max(dist(u[i], v[j])$  \n",
    "   - [Complete-linkage clustering](https://en.wikipedia.org/wiki/Complete-linkage_clustering) known also as Farthest Point Algorithm or Voor Hees Algorithm  \n",
    "  \n",
    "  **average** $^b$  \n",
    "   - $d(u,v) = \\sum_{ij}\\frac{d(u[i], v[j])}{(|u| * |v|)}$  \n",
    "    - [UPGMA](https://en.wikipedia.org/wiki/UPGMA) **U**nweighted **P**air **G**roup **M**ethod with **A**rithmetic Mean algorithm.   \n",
    "  \n",
    "- **weighted** $^c$    \n",
    "  - $d(u,v) = \\frac{dist(s,v) + dist(t,v)}{2}$  \n",
    "   - [WPGMA](https://en.wikipedia.org/wiki/WPGMA) (**W**eighted **P**air **G**roup **M**ethod with **A**rithmetic Mean)\n",
    "  \n",
    "- **centroid** $^d$ \n",
    "  - $dist(s,t) = ||c_s - c_t||2$ \n",
    "   - [UPGMC](https://en.wikipedia.org/wiki/Hierarchical_clustering) (**U**nweighted **P**air **G**roup **M**ethod with **C**entroid linkage)\n",
    "- **median**  \n",
    "  - $d{(i\\cup j),k} = \\frac{d_{i,k} + d_{j,k}}{2}$ \n",
    "   - [WPGMC]() (**W**eighted **P**air **G**roup **M**ethod with **C**entroid linkage)\n",
    "- **ward** $^e$  \n",
    "  - $d(u,v) = \\sqrt{\\frac{|v| + |s|}{T}d(v,s)^2 + \\frac{|v| + |t|}{T}d(v,t)^2 - \\frac{|v|}{T}d(s,t)^2}$ \n",
    "   - [Ward's minimum variance method](https://en.wikipedia.org/wiki/Ward%27s_method)\n",
    "   \n",
    "   \n",
    "   \n",
    "$^a)$ $d(u,v)$ Euclidean distanc between $u$ and $v$ clusters.  \n",
    "\n",
    "$^a)$ $u[i], v[j]$  all points $i$ in cluster $u$ and $j$ in cluster $v$.  \n",
    "\n",
    "$^b)$ $|u|$ and $|v|$ are the cardinalities of clusters $u$ and $v$ respectiely.\n",
    "\n",
    "$^c)$ $u, s, v, t$ where cluster $u$ was formed with cluster $s$ and $t$ and $v$ is a remaining cluster in the forest \n",
    "\n",
    "$^d)$ $c_s$ and $c_t$ The centroids of clusters $s$ and $t$.\n",
    "  \n",
    "$^e)$ $T = |v| + |s| + |t|$  \n",
    "\n",
    "[Centroid](https://en.wikipedia.org/wiki/Centroid) or geometric center.\n",
    "\n",
    "\n",
    "| | Arithmetic Mean | Geometric Center |\n",
    "| :---- | :-------- |:-------- |  \n",
    "| **Unweighted Pair Group** | average | centroid |\n",
    "| **Weighted Pair Group**  | weighted | median |\n"
   ]
  },
  {
   "cell_type": "code",
   "execution_count": 20,
   "metadata": {
    "scrolled": false
   },
   "outputs": [
    {
     "data": {
      "text/html": [
       "<div>\n",
       "<style scoped>\n",
       "    .dataframe tbody tr th:only-of-type {\n",
       "        vertical-align: middle;\n",
       "    }\n",
       "\n",
       "    .dataframe tbody tr th {\n",
       "        vertical-align: top;\n",
       "    }\n",
       "\n",
       "    .dataframe thead th {\n",
       "        text-align: right;\n",
       "    }\n",
       "</style>\n",
       "<table border=\"1\" class=\"dataframe\">\n",
       "  <thead>\n",
       "    <tr style=\"text-align: right;\">\n",
       "      <th></th>\n",
       "      <th>ca_skew</th>\n",
       "      <th>ga_skew</th>\n",
       "      <th>ua_skew</th>\n",
       "      <th>ug_skew</th>\n",
       "      <th>uc_skew</th>\n",
       "      <th>cg_skew</th>\n",
       "    </tr>\n",
       "  </thead>\n",
       "  <tbody>\n",
       "    <tr>\n",
       "      <th>Dengue_MT862858</th>\n",
       "      <td>907.99</td>\n",
       "      <td>-114.88</td>\n",
       "      <td>1841.00</td>\n",
       "      <td>1955.26</td>\n",
       "      <td>952.23</td>\n",
       "      <td>1021.56</td>\n",
       "    </tr>\n",
       "    <tr>\n",
       "      <th>Dengue_MT862893</th>\n",
       "      <td>917.53</td>\n",
       "      <td>-124.85</td>\n",
       "      <td>1845.74</td>\n",
       "      <td>1969.50</td>\n",
       "      <td>947.53</td>\n",
       "      <td>1040.92</td>\n",
       "    </tr>\n",
       "    <tr>\n",
       "      <th>Zika_AY632535</th>\n",
       "      <td>1381.19</td>\n",
       "      <td>-283.89</td>\n",
       "      <td>1147.27</td>\n",
       "      <td>1432.18</td>\n",
       "      <td>-237.85</td>\n",
       "      <td>1663.35</td>\n",
       "    </tr>\n",
       "    <tr>\n",
       "      <th>Zika_MN101548</th>\n",
       "      <td>1352.11</td>\n",
       "      <td>-295.92</td>\n",
       "      <td>1152.43</td>\n",
       "      <td>1444.86</td>\n",
       "      <td>-202.89</td>\n",
       "      <td>1644.59</td>\n",
       "    </tr>\n",
       "  </tbody>\n",
       "</table>\n",
       "</div>"
      ],
      "text/plain": [
       "                 ca_skew  ga_skew  ua_skew  ug_skew  uc_skew  cg_skew\n",
       "Dengue_MT862858   907.99  -114.88  1841.00  1955.26   952.23  1021.56\n",
       "Dengue_MT862893   917.53  -124.85  1845.74  1969.50   947.53  1040.92\n",
       "Zika_AY632535    1381.19  -283.89  1147.27  1432.18  -237.85  1663.35\n",
       "Zika_MN101548    1352.11  -295.92  1152.43  1444.86  -202.89  1644.59"
      ]
     },
     "execution_count": 20,
     "metadata": {},
     "output_type": "execute_result"
    }
   ],
   "source": [
    "df.iloc[[6,7,18,19], :]"
   ]
  },
  {
   "cell_type": "markdown",
   "metadata": {},
   "source": [
    "[Time Complexity](http://en.wikipedia.org/wiki/Time_complexity) (Big O Notaion)  \n",
    "- $O(n^2)$\n",
    " - single  \n",
    " - complete  \n",
    " - average  \n",
    " - weighted  \n",
    " - ward\n",
    "- $O(n^3)$\n",
    " - centroid  \n",
    " - median  \n"
   ]
  },
  {
   "cell_type": "markdown",
   "metadata": {},
   "source": [
    "## 5.3: Cophenetic correlation\n",
    "\n",
    "You can use the [cophenet](https://docs.scipy.org/doc/scipy/reference/generated/scipy.cluster.hierarchy.cophenet.html) function to calculate the cophenetic coefficent. The [cophenetic correlation](https://en.wikipedia.org/wiki/Cophenetic_correlation) coefficient is a measure of how faithfully a dendrogram preserves the pairwise distances between the original unmodeled data points."
   ]
  },
  {
   "cell_type": "code",
   "execution_count": 21,
   "metadata": {},
   "outputs": [
    {
     "data": {
      "text/plain": [
       "0.9134217812884088"
      ]
     },
     "execution_count": 21,
     "metadata": {},
     "output_type": "execute_result"
    }
   ],
   "source": [
    "from scipy.cluster.hierarchy import cophenet\n",
    "from scipy.spatial.distance import pdist\n",
    "\n",
    "c, coph_dists = cophenet(linkage_matrix, pdist(mat, metric='euclidean'))\n",
    "c"
   ]
  },
  {
   "cell_type": "code",
   "execution_count": null,
   "metadata": {},
   "outputs": [],
   "source": [
    "#coph_dists\n",
    "#pdist(mat, metric='euclidean')"
   ]
  },
  {
   "cell_type": "code",
   "execution_count": 22,
   "metadata": {},
   "outputs": [
    {
     "name": "stdout",
     "output_type": "stream",
     "text": [
      "single\n",
      "{'single': 0.9134217812884088, 'complete': 0.9019088064307287, 'average': 0.9107636361802532, 'weighted': 0.9077800575926043, 'centroid': 0.9106318070979335, 'median': 0.907864065075456, 'ward': 0.8872728478312205}\n"
     ]
    }
   ],
   "source": [
    "import operator\n",
    "cophenetic_results = {}\n",
    "methods = ('single', 'complete', 'average', 'weighted', 'centroid', 'median', 'ward')\n",
    "for m in methods:    \n",
    "    linkage_matrix = linkage(mat, method = m, metric='euclidean', optimal_ordering=True)\n",
    "    #for x in range(len(linkage_matrix)):\n",
    "    #    print(linkage_matrix[x])\n",
    "    c, coph_dists = cophenet(linkage_matrix, pdist(mat))\n",
    "    cophenetic_results[m] = c\n",
    "    #print(c)\n",
    "    #print('======================================================')\n",
    "print(max(cophenetic_results.items(), key=operator.itemgetter(1))[0])\n",
    "print(cophenetic_results)"
   ]
  },
  {
   "cell_type": "markdown",
   "metadata": {},
   "source": [
    "# Task 6: Dendrogram"
   ]
  },
  {
   "cell_type": "code",
   "execution_count": null,
   "metadata": {},
   "outputs": [],
   "source": [
    "linkage_matrix = linkage(mat, method = 'single', metric='euclidean', optimal_ordering=True)\n",
    "dendrogram(linkage_matrix)\n",
    "plt.show()\n",
    "plt.close()"
   ]
  },
  {
   "cell_type": "code",
   "execution_count": null,
   "metadata": {},
   "outputs": [],
   "source": [
    "linkage_matrix = linkage(mat, method = 'single', metric='euclidean', optimal_ordering=False)\n",
    "dendrogram(linkage_matrix)\n",
    "plt.show()\n",
    "plt.close()"
   ]
  },
  {
   "cell_type": "code",
   "execution_count": null,
   "metadata": {},
   "outputs": [],
   "source": [
    "orientations = ('top', 'bottom', 'left', 'right')\n",
    "linkage_matrix = linkage(mat, method = 'single', metric='euclidean', optimal_ordering=False)\n",
    "for orien in orientations:\n",
    "    dendrogram(linkage_matrix, orientation = orien)\n",
    "    plt.show()\n",
    "    plt.close()"
   ]
  },
  {
   "cell_type": "code",
   "execution_count": null,
   "metadata": {},
   "outputs": [],
   "source": [
    "linkage_matrix = linkage(mat, method = 'single', metric='euclidean', optimal_ordering=True)\n",
    "dendrogram(linkage_matrix, labels=virus_names[:])\n",
    "plt.show()\n",
    "plt.close()"
   ]
  },
  {
   "cell_type": "code",
   "execution_count": null,
   "metadata": {},
   "outputs": [],
   "source": [
    "linkage_matrix = linkage(mat, method = 'single', metric='euclidean', optimal_ordering=True)\n",
    "dendrogram(linkage_matrix, labels=virus_names[:], leaf_rotation=90, leaf_font_size=10)\n",
    "plt.show()\n",
    "plt.close()"
   ]
  },
  {
   "cell_type": "code",
   "execution_count": null,
   "metadata": {},
   "outputs": [],
   "source": [
    "plt.figure(figsize=(10, 12))\n",
    "dendrogram(linkage_matrix, labels=virus_names[:], orientation=\"left\", color_threshold=6230)\n",
    "plt.show()    \n",
    "plt.close()"
   ]
  },
  {
   "cell_type": "code",
   "execution_count": null,
   "metadata": {},
   "outputs": [],
   "source": [
    "0.7*max(linkage_matrix[:,2])"
   ]
  },
  {
   "cell_type": "markdown",
   "metadata": {},
   "source": [
    "**Line style and color options**  \n",
    "```python\n",
    "linestyles = ('solid', 'dashed', 'dashdot', 'dotted')\n",
    "colors_abbreviation = ('b', 'g', 'r', 'c', 'm', 'y', 'k', 'w')\n",
    "colors_names = ('blue', 'orange', 'green', 'red', 'purple', 'brown', 'pink', 'gray', 'olive', 'cyan')\n",
    "colors_hexa = ('#1f77b4', '#ff7f0e', '#2ca02c', '#d62728', '#9467bd', '#8c564b', '#e377c2', '#7f7f7f', '#bcbd22', '#17becf')\n",
    "```\n",
    "*You can read more about matplotlib colors in the [documentation](https://matplotlib.org/api/colors_api.html#matplotlib.colors.Colormap).*"
   ]
  },
  {
   "cell_type": "code",
   "execution_count": null,
   "metadata": {},
   "outputs": [],
   "source": [
    "plt.figure(figsize=(10, 12))\n",
    "plt.title('20 Viruses Hierarchical \\n Clustering Dendrogram', fontsize=16)\n",
    "plt.xlabel('Euclidean Distance', fontsize=14)\n",
    "plt.ylabel('The length of the cluster in this direction has no meaning what so ever!', fontsize=14)\n",
    "dendrogram(linkage_matrix, labels=virus_names[:], orientation=\"left\", color_threshold=0.2*max(linkage_matrix[:,2]))\n",
    "plt.vlines(x=2000, ymin=1.0, ymax=200., linestyles='dashdot', color='r', lw=2)\n",
    "plt.vlines(x=[4000,2000, 1000], ymin=[0, 2, 8], ymax=198., linestyles='dashdot', color='#7f7f7f')\n",
    "#plt.hlines(y=2000, xmin=1.0, xmax=200., linestyles='dashdot', color='r')\n",
    "#plt.hlines(y=[4000,2000, 1000], xmin=[0, 2, 8], xmax=198., linestyles='dashdot', label='Multiple Lines', color='#7f7f7f')\n",
    "plt.text(2000, 190, '2000', size=12, ha='center', va='center')\n",
    "plt.show()    \n",
    "plt.close()"
   ]
  },
  {
   "cell_type": "markdown",
   "metadata": {},
   "source": [
    "# Task 7: Dendrogram"
   ]
  },
  {
   "cell_type": "markdown",
   "metadata": {},
   "source": [
    " - Riboviria  \n",
    "     - Coronaviridae family,  \n",
    "      - Corona \n",
    "      - SARS  \n",
    "     - Flaviviridae family,  \n",
    "        - Dengue \n",
    "        - Zika \n",
    "        - West Nile  \n",
    "     - Picornaviridae  \n",
    "        - Enterovirus  \n",
    "     - Retroviridae  \n",
    "        - HIV  \n",
    "| | Virus Count | Strain Count |\n",
    "| :---- | :--------: |:--------: |  \n",
    "| *Coronaviridae* | **2** | **10** |\n",
    "| *Flaviviridae*  | **3** | **5** |\n",
    "| *Picornaviridae* | **1** | **5** |\n",
    "| *Retroviridae*  | **1** | **1** |\n",
    "|  |\n",
    "| **Total**  | **7** | **20** |\n"
   ]
  },
  {
   "cell_type": "code",
   "execution_count": null,
   "metadata": {
    "scrolled": true
   },
   "outputs": [],
   "source": [
    "print(cophenetic_results)"
   ]
  },
  {
   "cell_type": "code",
   "execution_count": null,
   "metadata": {
    "scrolled": true
   },
   "outputs": [],
   "source": [
    "print(\"{:.3f}\".format(cophenetic_results['single'] - cophenetic_results['ward']))"
   ]
  },
  {
   "cell_type": "code",
   "execution_count": null,
   "metadata": {},
   "outputs": [],
   "source": [
    "linkage_matrix = linkage(mat, method = 'single', metric='euclidean', optimal_ordering=False)\n",
    "plt.figure(figsize=(10, 12))\n",
    "plt.title('Hierarchical Clustering \\n Single Method \\n', fontsize=16)\n",
    "dendrogram(linkage_matrix, labels=virus_names[:], orientation=\"left\", color_threshold=0.12*max(linkage_matrix[:,2]))\n",
    "plt.vlines(x=[2000, 4000, 9000], ymin=[0, 0, 0], ymax=200., linestyles='dashdot', color='#7f7f7f')\n",
    "plt.text(2000, 190, '2000', size=12, ha='center', va='center')\n",
    "plt.text(4000, 190, '4000', size=12, ha='center', va='center')\n",
    "plt.text(9000, 190, '9000', size=12, ha='center', va='center')\n",
    "plt.show()    "
   ]
  },
  {
   "cell_type": "code",
   "execution_count": null,
   "metadata": {},
   "outputs": [],
   "source": [
    "linkage_matrix = linkage(mat, method = 'complete', metric='euclidean', optimal_ordering=False)\n",
    "plt.figure(figsize=(10, 12))\n",
    "plt.title('Hierarchical Clustering \\n Complete Method \\n', fontsize=16)\n",
    "dendrogram(linkage_matrix, labels=virus_names[:], orientation=\"left\", color_threshold=0.12*max(linkage_matrix[:,2]))\n",
    "plt.vlines(x=[5000, 11000, 20000], ymin=[0, 0, 0], ymax=200., linestyles='dashdot', color='#7f7f7f')\n",
    "plt.text(5000, 190, '5000', size=12, ha='center', va='center')\n",
    "plt.text(11000, 190, '11000', size=12, ha='center', va='center')\n",
    "plt.text(20000, 190, '20000', size=12, ha='center', va='center')\n",
    "\n",
    "plt.show()    "
   ]
  },
  {
   "cell_type": "code",
   "execution_count": null,
   "metadata": {},
   "outputs": [],
   "source": [
    "linkage_matrix = linkage(mat, method = 'ward', metric='euclidean', optimal_ordering=False)\n",
    "plt.figure(figsize=(10, 12))\n",
    "plt.title('Hierarchical Clustering \\n Ward\\'s Method \\n', fontsize=16)\n",
    "dendrogram(linkage_matrix, labels=virus_names[:], orientation=\"left\", color_threshold=0.12*max(linkage_matrix[:,2]))\n",
    "plt.vlines(x=[5000, 13000, 39000], ymin=[0, 0, 0], ymax=200., linestyles='dashdot', color='#7f7f7f')\n",
    "plt.text(5000, 190, '5000', size=12, ha='center', va='center')\n",
    "plt.text(11000, 190, '11000', size=12, ha='center', va='center')\n",
    "plt.text(39000, 190, '39000', size=12, ha='center', va='center')\n",
    "\n",
    "plt.show()    "
   ]
  },
  {
   "cell_type": "code",
   "execution_count": null,
   "metadata": {},
   "outputs": [],
   "source": [
    "linkage_matrix = linkage(mat[:,[0,3]], method = 'single', metric='euclidean', optimal_ordering=False)\n",
    "plt.figure(figsize=(10, 12))\n",
    "plt.title('Hierarchical Clustering \\n Single Method \\n ', fontsize=16)\n",
    "dendrogram(linkage_matrix, labels=virus_names[:], orientation=\"left\", color_threshold=0.12*max(linkage_matrix[:,2]))\n",
    "plt.show()    "
   ]
  },
  {
   "cell_type": "code",
   "execution_count": null,
   "metadata": {},
   "outputs": [],
   "source": [
    "methods = ('single', 'complete', 'average', 'weighted', 'centroid', 'median', 'ward')\n",
    "for m in methods:    \n",
    "    linkage_matrix = linkage(mat, method = m, metric='euclidean', optimal_ordering=False)\n",
    "    y = 0\n",
    "    plt.figure(figsize=(8, 9))\n",
    "    plt.title('Hierarchical Clustering Dendrogram using ' + str(m) + ' Method', fontsize=16)\n",
    "    dendrogram(linkage_matrix, labels=virus_names[:], orientation=\"left\", color_threshold=0.2*max(linkage_matrix[:,2]))\n",
    "    plt.show()   "
   ]
  },
  {
   "cell_type": "code",
   "execution_count": null,
   "metadata": {},
   "outputs": [],
   "source": [
    "methods = ('single', 'complete', 'average', 'weighted', 'centroid', 'median', 'ward')\n",
    "for m in methods:    \n",
    "    linkage_matrix = linkage(mat2, method = m, metric='euclidean', optimal_ordering=False)\n",
    "    y = 0\n",
    "    plt.figure(figsize=(8, 9))\n",
    "    plt.title('Hierarchical Clustering Dendrogram using ' + str(m) + ' Method', fontsize=16)\n",
    "    dendrogram(linkage_matrix, labels=virus_names[:], orientation=\"left\", color_threshold=0.2*max(linkage_matrix[:,2]))\n",
    "    plt.show()    "
   ]
  },
  {
   "cell_type": "code",
   "execution_count": null,
   "metadata": {},
   "outputs": [],
   "source": []
  },
  {
   "cell_type": "markdown",
   "metadata": {},
   "source": [
    "<table><tr><td><img src='images/dendogram_H.png'></td><td><img src='images/dendogram.png'></td></tr></table>  "
   ]
  },
  {
   "cell_type": "code",
   "execution_count": null,
   "metadata": {},
   "outputs": [],
   "source": []
  }
 ],
 "metadata": {
  "kernelspec": {
   "display_name": "Python 3",
   "language": "python",
   "name": "python3"
  },
  "language_info": {
   "codemirror_mode": {
    "name": "ipython",
    "version": 3
   },
   "file_extension": ".py",
   "mimetype": "text/x-python",
   "name": "python",
   "nbconvert_exporter": "python",
   "pygments_lexer": "ipython3",
   "version": "3.7.7"
  },
  "varInspector": {
   "cols": {
    "lenName": 16,
    "lenType": 16,
    "lenVar": 40
   },
   "kernels_config": {
    "python": {
     "delete_cmd_postfix": "",
     "delete_cmd_prefix": "del ",
     "library": "var_list.py",
     "varRefreshCmd": "print(var_dic_list())"
    },
    "r": {
     "delete_cmd_postfix": ") ",
     "delete_cmd_prefix": "rm(",
     "library": "var_list.r",
     "varRefreshCmd": "cat(var_dic_list()) "
    }
   },
   "position": {
    "height": "540.297px",
    "left": "584px",
    "right": "20px",
    "top": "108px",
    "width": "658.297px"
   },
   "types_to_exclude": [
    "module",
    "function",
    "builtin_function_or_method",
    "instance",
    "_Feature"
   ],
   "window_display": false
  }
 },
 "nbformat": 4,
 "nbformat_minor": 4
}
